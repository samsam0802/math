{
 "cells": [
  {
   "cell_type": "markdown",
   "id": "2c509f2b-16aa-4770-ab4c-ae2347520a3c",
   "metadata": {},
   "source": [
    "$ \\[\n",
    "\\begin{bmatrix}\n",
    "2 & 4 \\\\\n",
    "6 & 2\n",
    "\\end{bmatrix}\n",
    "\\begin{bmatrix}\n",
    "x \\\\\n",
    "y\n",
    "\\end{bmatrix}\n",
    "=\n",
    "\\begin{bmatrix}\n",
    "5 \\\\\n",
    "7\n",
    "\\end{bmatrix}\n",
    "\\]\n",
    "\n",
    "\\[\n",
    "A =\n",
    "\\begin{bmatrix}\n",
    "2 & 4 \\\\\n",
    "6 & 2\n",
    "\\end{bmatrix},\n",
    "\\quad\n",
    "X =\n",
    "\\begin{bmatrix}\n",
    "x \\\\\n",
    "y\n",
    "\\end{bmatrix},\n",
    "\\quad\n",
    "B =\n",
    "\\begin{bmatrix}\n",
    "5 \\\\\n",
    "7\n",
    "\\end{bmatrix}\n",
    "\\]\n",
    "\n",
    "\\[\n",
    "AX = B \\quad \\Rightarrow \\quad X = A^{-1}B\n",
    "\\]\n",
    "\n",
    "\\[\n",
    "A^{-1} =\n",
    "\\frac{1}{(2)(2) - (6)(4)}\n",
    "\\begin{bmatrix}\n",
    "2 & -4 \\\\\n",
    "-6 & 2\n",
    "\\end{bmatrix}\n",
    "=\n",
    "\\frac{1}{-20}\n",
    "\\begin{bmatrix}\n",
    "2 & -4 \\\\\n",
    "-6 & 2\n",
    "\\end{bmatrix}\n",
    "\\]\n",
    "\n",
    "\\[\n",
    "X =\n",
    "\\frac{1}{-20}\n",
    "\\begin{bmatrix}\n",
    "2 & -4 \\\\\n",
    "-6 & 2\n",
    "\\end{bmatrix}\n",
    "\\begin{bmatrix}\n",
    "5 \\\\\n",
    "7\n",
    "\\end{bmatrix}\n",
    "=\n",
    "\\frac{1}{-20}\n",
    "\\begin{bmatrix}\n",
    "2\\cdot 5 + (-4)\\cdot 7 \\\\\n",
    "-6\\cdot 5 + 2\\cdot 7\n",
    "\\end{bmatrix}\n",
    "=\n",
    "\\frac{1}{-20}\n",
    "\\begin{bmatrix}\n",
    "-18 \\\\\n",
    "-16\n",
    "\\end{bmatrix}\n",
    "\\]\n",
    "\n",
    "\\[\n",
    "X =\n",
    "\\begin{bmatrix}\n",
    "0.9 \\\\\n",
    "0.8\n",
    "\\end{bmatrix}\n",
    "\\quad \\Rightarrow \\quad\n",
    "x = 0.9,\\; y = 0.8\n",
    "\\]\n",
    " $"
   ]
  },
  {
   "cell_type": "code",
   "execution_count": 1,
   "id": "5814bdb7-b6be-4e59-8e7f-87a103767ed5",
   "metadata": {},
   "outputs": [
    {
     "name": "stdout",
     "output_type": "stream",
     "text": [
      "해: [0.9 0.8]\n",
      "x = 0.9, y = 0.8\n"
     ]
    }
   ],
   "source": [
    "import numpy as np\n",
    "\n",
    "# 계수 행렬 A\n",
    "A = np.array([[2, 4],\n",
    "              [6, 2]])\n",
    "\n",
    "# 상수 벡터 B\n",
    "B = np.array([5, 7])\n",
    "\n",
    "# 해 구하기 (X = A^{-1}B)\n",
    "X = np.linalg.solve(A, B)\n",
    "\n",
    "print(\"해:\", X)\n",
    "print(f\"x = {X[0]}, y = {X[1]}\")\n"
   ]
  },
  {
   "cell_type": "markdown",
   "id": "a648999e-9238-4bb2-b7d9-5918f6e45d4a",
   "metadata": {},
   "source": [
    "\\[\n",
    "\\text{주어진 연립방정식:}\n",
    "\\]\n",
    "\n",
    "\\[\n",
    "\\begin{cases}\n",
    "2x + 4y = 5 \\\\\n",
    "6x + 2y = 7\n",
    "\\end{cases}\n",
    "\\]\n",
    "\n",
    "\\[\n",
    "\\text{이를 행렬 형태로 쓰면: }\n",
    "\\quad\n",
    "\\begin{bmatrix}\n",
    "2 & 4 \\\\\n",
    "6 & 2\n",
    "\\end{bmatrix}\n",
    "\\begin{bmatrix}\n",
    "x \\\\\n",
    "y\n",
    "\\end{bmatrix}\n",
    "=\n",
    "\\begin{bmatrix}\n",
    "5 \\\\\n",
    "7\n",
    "\\end{bmatrix}\n",
    "\\]\n",
    "\n",
    "\\[\n",
    "AX = B, \\quad X = A^{-1}B\n",
    "\\]\n",
    "\n",
    "\\[\n",
    "A =\n",
    "\\begin{bmatrix}\n",
    "2 & 4 \\\\\n",
    "6 & 2\n",
    "\\end{bmatrix},\n",
    "\\quad\n",
    "B =\n",
    "\\begin{bmatrix}\n",
    "5 \\\\\n",
    "7\n",
    "\\end{bmatrix}\n",
    "\\]\n",
    "\n",
    "\\[\n",
    "\\det(A) = (2)(2) - (6)(4) = 4 - 24 = -20\n",
    "\\]\n",
    "\n",
    "\\[\n",
    "A^{-1} =\n",
    "\\frac{1}{\\det(A)}\n",
    "\\begin{bmatrix}\n",
    "2 & -4 \\\\\n",
    "-6 & 2\n",
    "\\end{bmatrix}\n",
    "=\n",
    "\\frac{1}{-20}\n",
    "\\begin{bmatrix}\n",
    "2 & -4 \\\\\n",
    "-6 & 2\n",
    "\\end{bmatrix}\n",
    "\\]\n",
    "\n",
    "\\[\n",
    "X = A^{-1}B =\n",
    "\\frac{1}{-20}\n",
    "\\begin{bmatrix}\n",
    "2 & -4 \\\\\n",
    "-6 & 2\n",
    "\\end{bmatrix}\n",
    "\\begin{bmatrix}\n",
    "5 \\\\\n",
    "7\n",
    "\\end{bmatrix}\n",
    "\\]\n",
    "\n",
    "\\[\n",
    "=\n",
    "\\frac{1}{-20}\n",
    "\\begin{bmatrix}\n",
    "2\\cdot 5 + (-4)\\cdot 7 \\\\\n",
    "-6\\cdot 5 + 2\\cdot 7\n",
    "\\end{bmatrix}\n",
    "=\n",
    "\\frac{1}{-20}\n",
    "\\begin{bmatrix}\n",
    "-18 \\\\\n",
    "-16\n",
    "\\end{bmatrix}\n",
    "\\]\n",
    "\n",
    "\\[\n",
    "X =\n",
    "\\begin{bmatrix}\n",
    "0.9 \\\\\n",
    "0.8\n",
    "\\end{bmatrix}\n",
    "\\quad \\Rightarrow \\quad\n",
    "x = 0.9,\\; y = 0.8\n",
    "\\]\n"
   ]
  },
  {
   "cell_type": "code",
   "execution_count": 2,
   "id": "4846223e-5771-41d8-8ff0-70c00e038271",
   "metadata": {},
   "outputs": [
    {
     "data": {
      "text/plain": [
       "True"
      ]
     },
     "execution_count": 2,
     "metadata": {},
     "output_type": "execute_result"
    }
   ],
   "source": [
    "x=0.9\n",
    "y=0.8\n",
    "2*x+4*y - 5 <0.001"
   ]
  },
  {
   "cell_type": "code",
   "execution_count": 3,
   "id": "32339a69-24d7-4d4d-9ae1-939dfeeeab0e",
   "metadata": {},
   "outputs": [
    {
     "data": {
      "text/plain": [
       "True"
      ]
     },
     "execution_count": 3,
     "metadata": {},
     "output_type": "execute_result"
    }
   ],
   "source": [
    "6*x+2*y - 7 < 0.001"
   ]
  },
  {
   "cell_type": "code",
   "execution_count": 4,
   "id": "98cd1c37-5309-4a75-a02c-43f7beac97f8",
   "metadata": {},
   "outputs": [],
   "source": [
    "import numpy as np"
   ]
  },
  {
   "cell_type": "code",
   "execution_count": 5,
   "id": "487586eb-8005-4317-bd56-ba985e1d2255",
   "metadata": {},
   "outputs": [
    {
     "data": {
      "text/plain": [
       "array([[ 1,  3,  5],\n",
       "       [ 3,  4,  6],\n",
       "       [-1,  3,  5]])"
      ]
     },
     "execution_count": 5,
     "metadata": {},
     "output_type": "execute_result"
    }
   ],
   "source": [
    "x1=np.array( [ [1,3,5],\n",
    "     [3 ,4, 6],\n",
    "     [-1,3,5]])\n",
    "x1"
   ]
  },
  {
   "cell_type": "code",
   "execution_count": 6,
   "id": "29c16a7e-e172-44f5-afa7-a772fa1eb634",
   "metadata": {},
   "outputs": [
    {
     "data": {
      "text/plain": [
       "array([[ 1.00000000e+00, -6.66133815e-16, -6.66133815e-16],\n",
       "       [ 0.00000000e+00,  1.00000000e+00, -4.44089210e-16],\n",
       "       [-1.77635684e-15,  1.11022302e-15,  1.00000000e+00]])"
      ]
     },
     "execution_count": 6,
     "metadata": {},
     "output_type": "execute_result"
    }
   ],
   "source": [
    "xy= np.linalg.inv(x1)\n",
    "result = np.dot(x1,xy)\n",
    "result"
   ]
  },
  {
   "cell_type": "code",
   "execution_count": 7,
   "id": "7970707e-f6bd-4a19-ba99-ceb2af4aa8cb",
   "metadata": {},
   "outputs": [
    {
     "data": {
      "text/plain": [
       "array([[ 1., -0., -0.],\n",
       "       [ 0.,  1., -0.],\n",
       "       [-0.,  0.,  1.]])"
      ]
     },
     "execution_count": 7,
     "metadata": {},
     "output_type": "execute_result"
    }
   ],
   "source": [
    "# 불필요한 소수점 오차를 없애기 위해 반올림\n",
    "I_clean = np.round(result, decimals=6)  # 소수점 6자리까지 반올림\n",
    "I_clean"
   ]
  },
  {
   "cell_type": "code",
   "execution_count": 8,
   "id": "3ac474fd-b241-4275-b02b-6c4143d7fe49",
   "metadata": {},
   "outputs": [
    {
     "data": {
      "text/plain": [
       "array([[ 1.00000000e+00, -5.55111512e-16, -1.11022302e-16],\n",
       "       [-1.33226763e-15,  1.00000000e+00, -3.99680289e-15],\n",
       "       [ 6.66133815e-16,  6.66133815e-16,  1.00000000e+00]])"
      ]
     },
     "execution_count": 8,
     "metadata": {},
     "output_type": "execute_result"
    }
   ],
   "source": [
    "y1 = ( [\n",
    "        [1,3,5],\n",
    "        [3,4,6],\n",
    "        [-1,3,5]]\n",
    "     )\n",
    "b=np.array([11,3,11])\n",
    "yy = np.linalg.inv(y1)\n",
    "result = np.dot(yy,y1)\n",
    "result"
   ]
  },
  {
   "cell_type": "code",
   "execution_count": 9,
   "id": "99ccaf52-ec30-41e6-8ea4-25a214a63ca8",
   "metadata": {},
   "outputs": [
    {
     "data": {
      "text/plain": [
       "array([  0. , -25.5,  17.5])"
      ]
     },
     "execution_count": 9,
     "metadata": {},
     "output_type": "execute_result"
    }
   ],
   "source": [
    "solution = np.dot(yy,b)\n",
    "np.round(solution,decimals=6)"
   ]
  },
  {
   "cell_type": "code",
   "execution_count": 10,
   "id": "cfbd964e-c19f-4cf0-99b9-3bed5fd839fb",
   "metadata": {},
   "outputs": [],
   "source": [
    "x11 = 0.\n",
    "x12 = -25.5\n",
    "x13 = 17.5"
   ]
  },
  {
   "cell_type": "code",
   "execution_count": 11,
   "id": "b14989ea-8264-45a8-9063-7a89293368af",
   "metadata": {},
   "outputs": [
    {
     "data": {
      "text/plain": [
       "(True, False, True)"
      ]
     },
     "execution_count": 11,
     "metadata": {},
     "output_type": "execute_result"
    }
   ],
   "source": [
    "re1 = -1*x11 + 2*x12 + 1*x13 -3 < 0.1\n",
    "re2 = 2*x11 - 3*x12 + 9*x13 - 11 < 0.1\n",
    "re3 = 3*x11 + 4*x12 + 6*x13 - 11 < 0.0001\n",
    "re1,re2,re3"
   ]
  },
  {
   "cell_type": "code",
   "execution_count": 12,
   "id": "9ef6b766-405e-409c-baad-ca8dab8fa76f",
   "metadata": {},
   "outputs": [
    {
     "data": {
      "text/plain": [
       "(True, True, True)"
      ]
     },
     "execution_count": 12,
     "metadata": {},
     "output_type": "execute_result"
    }
   ],
   "source": [
    "re1 = 1*x11 + 3*x12 + 5*x13 -11 < 0.1\n",
    "re2 = 3*x11 + 4*x12 + 6*x13 -3 < 0.1\n",
    "re3 = -1*x11 + 3*x12 + 5*x13 - 11 < 0.1\n",
    "re1,re2,re3"
   ]
  },
  {
   "cell_type": "markdown",
   "id": "b7714ffb-3cc2-40ac-bd82-9702d028ed66",
   "metadata": {},
   "source": [
    "$ f(x) = 3x^2 + 7x + 6 $"
   ]
  },
  {
   "cell_type": "markdown",
   "id": "427557b2-17fa-4902-915e-7f349d183f0a",
   "metadata": {},
   "source": [
    "$ \\text{적분 구간: } \\int_{2}^{5} f(x)\\,dx $"
   ]
  },
  {
   "cell_type": "markdown",
   "id": "b974c2c7-5caf-4aa9-b5cc-5b6440551225",
   "metadata": {},
   "source": [
    "$ \n",
    "F(x) = \\int f(x)\\,dx \n",
    "= x^3 + \\tfrac{7}{2}x^2 + 6x\n",
    " $"
   ]
  },
  {
   "cell_type": "markdown",
   "id": "a686837f-8943-43c9-aec6-1f79fa3ddd47",
   "metadata": {},
   "source": [
    "$ \\int_{2}^{5} f(x)\\,dx\n",
    "= \\Bigl[ x^3 + \\tfrac{7}{2}x^2 + 6x \\Bigr]_{2}^{5}\n",
    "= \\Bigl(125 + \\tfrac{7}{2}\\cdot 25 + 30 \\Bigr) - \\Bigl(8 + \\tfrac{7}{2}\\cdot 4 + 12 \\Bigr)   $"
   ]
  },
  {
   "cell_type": "markdown",
   "id": "1d330da6-09af-4bbf-9c16-2dc7548e789b",
   "metadata": {},
   "source": [
    "$  = 188.5 - (-19) = \\tfrac{417}{2} = 208.5 $"
   ]
  },
  {
   "cell_type": "markdown",
   "id": "9d811258-31f1-4696-8640-31a026d5177b",
   "metadata": {},
   "source": [
    "$  \\therefore \\quad \\text{정확한 면적은 } 208.5   $"
   ]
  },
  {
   "cell_type": "code",
   "execution_count": 13,
   "id": "c247367a-114f-4808-bc7c-0c74710b70e4",
   "metadata": {},
   "outputs": [
    {
     "ename": "NameError",
     "evalue": "name 'sp' is not defined",
     "output_type": "error",
     "traceback": [
      "\u001b[1;31m---------------------------------------------------------------------------\u001b[0m",
      "\u001b[1;31mNameError\u001b[0m                                 Traceback (most recent call last)",
      "Cell \u001b[1;32mIn[13], line 4\u001b[0m\n\u001b[0;32m      1\u001b[0m \u001b[38;5;28;01mimport\u001b[39;00m\u001b[38;5;250m \u001b[39m\u001b[38;5;21;01mmatplotlib\u001b[39;00m\u001b[38;5;21;01m.\u001b[39;00m\u001b[38;5;21;01mpyplot\u001b[39;00m\u001b[38;5;250m \u001b[39m\u001b[38;5;28;01mas\u001b[39;00m\u001b[38;5;250m \u001b[39m\u001b[38;5;21;01mplt\u001b[39;00m\n\u001b[0;32m      3\u001b[0m \u001b[38;5;66;03m# ---- SymPy 적분 ----\u001b[39;00m\n\u001b[1;32m----> 4\u001b[0m x \u001b[38;5;241m=\u001b[39m sp\u001b[38;5;241m.\u001b[39mSymbol(\u001b[38;5;124m'\u001b[39m\u001b[38;5;124mx\u001b[39m\u001b[38;5;124m'\u001b[39m, real\u001b[38;5;241m=\u001b[39m\u001b[38;5;28;01mTrue\u001b[39;00m)\n\u001b[0;32m      5\u001b[0m f \u001b[38;5;241m=\u001b[39m \u001b[38;5;241m3\u001b[39m\u001b[38;5;241m*\u001b[39mx\u001b[38;5;241m*\u001b[39m\u001b[38;5;241m*\u001b[39m\u001b[38;5;241m2\u001b[39m \u001b[38;5;241m+\u001b[39m \u001b[38;5;241m7\u001b[39m\u001b[38;5;241m*\u001b[39mx \u001b[38;5;241m+\u001b[39m \u001b[38;5;241m6\u001b[39m\n\u001b[0;32m      6\u001b[0m a, b \u001b[38;5;241m=\u001b[39m \u001b[38;5;241m2\u001b[39m, \u001b[38;5;241m5\u001b[39m\n",
      "\u001b[1;31mNameError\u001b[0m: name 'sp' is not defined"
     ]
    }
   ],
   "source": [
    "import matplotlib.pyplot as plt\n",
    "\n",
    "# ---- SymPy 적분 ----\n",
    "x = sp.Symbol('x', real=True)\n",
    "f = 3*x**2 + 7*x + 6\n",
    "a, b = 2, 5\n",
    "\n",
    "F = sp.integrate(f, x)                 # 부정적분\n",
    "area_exact = sp.integrate(f, (x, a, b))  # [2,5] 구간 면적\n",
    "\n",
    "print(\"부정적분 F(x) =\", F)\n",
    "print(f\"정확한 면적 ∫_{{{a}}}^{{{b}}} f(x) dx =\", area_exact)\n",
    "\n",
    "# ---- 반복문으로 여러 개수의 직사각형 ----\n",
    "rect_counts = [2, 3, 7, 10, 100]\n",
    "\n",
    "xs = np.linspace(a, b, 400)\n",
    "f_np = sp.lambdify(x, f, 'numpy')\n",
    "\n",
    "# subplot을 2행 3열로 준비 (최대 6개까지)\n",
    "fig, axes = plt.subplots(2, 3, figsize=(15, 10))\n",
    "axes = axes.flatten()\n",
    "\n",
    "for idx, N in enumerate(rect_counts):\n",
    "    dx = (b - a) / N\n",
    "    sample_x = np.linspace(a + dx/2, b - dx/2, N)  # midpoint rule\n",
    "    heights = f_np(sample_x)\n",
    "    riemann_sum = np.sum(heights * dx)\n",
    "\n",
    "    ax = axes[idx]\n",
    "    ax.plot(xs, f_np(xs), 'orange', label='f(x) = 3x^2+7x+6')\n",
    "\n",
    "    # 직사각형 그리기\n",
    "    for xi, hi in zip(sample_x, heights):\n",
    "        ax.bar(xi, hi, width=dx, alpha=0.3, edgecolor='black')\n",
    "\n",
    "    ax.axvline(a, linestyle='--', alpha=0.6)\n",
    "    ax.axvline(b, linestyle='--', alpha=0.6)\n",
    "\n",
    "    ax.set_title(f\"N={N} 직사각형\\n\"\n",
    "                 f\"리만합 ≈ {riemann_sum:.4f}, 정확한 면적 = {float(area_exact):.4f}\")\n",
    "    ax.set_xlabel('x')\n",
    "    ax.set_ylabel('f(x)')\n",
    "    ax.legend()\n",
    "\n",
    "plt.tight_layout()\n",
    "plt.show()"
   ]
  },
  {
   "cell_type": "code",
   "execution_count": null,
   "id": "c14406d0-a790-474e-92b9-22e6fd231b9c",
   "metadata": {},
   "outputs": [],
   "source": [
    "import numpy as np\n",
    "import matplotlib.pyplot as plt\n",
    "\n",
    "# 변수 선언\n",
    "x = sp.Symbol('x', real=True)\n",
    "\n",
    "# 함수 정의\n",
    "f = sp.sin(2*x)*sp.cos(3*x) + x**7 + sp.cos(8*x)\n",
    "\n",
    "# 미분\n",
    "f_prime = sp.diff(f, x)\n",
    "\n",
    "print(\"원래 함수 f(x) =\", f)\n",
    "print(\"도함수 f'(x) =\", f_prime)\n",
    "\n",
    "# numpy 변환\n",
    "f_np = sp.lambdify(x, f, 'numpy')\n",
    "f_prime_np = sp.lambdify(x, f_prime, 'numpy')\n",
    "\n",
    "# x 범위\n",
    "xs = np.linspace(-2, 2, 400)   # 필요시 범위 조정\n",
    "ys = f_np(xs)\n",
    "ys_prime = f_prime_np(xs)\n",
    "\n",
    "# 그래프\n",
    "plt.figure(figsize=(10, 6))\n",
    "plt.plot(xs, ys, label=\"f(x)\", color=\"blue\")\n",
    "plt.plot(xs, ys_prime, label=\"f'(x)\", color=\"red\", linestyle=\"--\")\n",
    "\n",
    "plt.title(\"함수와 도함수 그래프\")\n",
    "plt.xlabel(\"x\")\n",
    "plt.ylabel(\"y\")\n",
    "plt.legend()\n",
    "plt.grid(True)\n",
    "plt.show()"
   ]
  },
  {
   "cell_type": "markdown",
   "id": "ab330752-6430-4855-b2f3-792580dbecd5",
   "metadata": {},
   "source": [
    "<img src=\"images/a.PNG\"/>"
   ]
  }
 ],
 "metadata": {
  "kernelspec": {
   "display_name": "Python [conda env:base] *",
   "language": "python",
   "name": "conda-base-py"
  },
  "language_info": {
   "codemirror_mode": {
    "name": "ipython",
    "version": 3
   },
   "file_extension": ".py",
   "mimetype": "text/x-python",
   "name": "python",
   "nbconvert_exporter": "python",
   "pygments_lexer": "ipython3",
   "version": "3.13.5"
  }
 },
 "nbformat": 4,
 "nbformat_minor": 5
}
