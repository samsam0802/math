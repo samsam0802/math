{
 "cells": [
  {
   "cell_type": "markdown",
   "id": "b6a3e65a-81e4-4356-81aa-946f3d595d5a",
   "metadata": {},
   "source": [
    "## 내적(dot product)"
   ]
  },
  {
   "cell_type": "markdown",
   "id": "06b255c1-6bfb-4bc5-a38b-9b9440e93fe4",
   "metadata": {},
   "source": [
    "<img src=\"images/0922/1.PNG\"/>"
   ]
  },
  {
   "cell_type": "markdown",
   "id": "a94722b3-a9f1-4398-bb49-9e9592cc5d65",
   "metadata": {},
   "source": [
    "<img src=\"images/0922/2.PNG\"/>"
   ]
  },
  {
   "cell_type": "code",
   "execution_count": 2,
   "id": "c13419e3-dcbf-4e86-a96d-aae19445f4db",
   "metadata": {},
   "outputs": [],
   "source": [
    "import numpy as np\n",
    "a_vec=np.array([3,1])\n",
    "b_vec=np.array([1,2])"
   ]
  },
  {
   "cell_type": "code",
   "execution_count": 4,
   "id": "6e2fd90e-3a95-4383-b99e-32482f9b2133",
   "metadata": {},
   "outputs": [
    {
     "data": {
      "text/plain": [
       "np.int64(5)"
      ]
     },
     "execution_count": 4,
     "metadata": {},
     "output_type": "execute_result"
    }
   ],
   "source": [
    "np.dot(a_vec,b_vec)"
   ]
  },
  {
   "cell_type": "markdown",
   "id": "81492139-dd63-4d83-90d9-9e6382060227",
   "metadata": {},
   "source": [
    "$ 180 : \\pi = 90 : x $\n",
    "$ 180 : \\pi = 90 : x $"
   ]
  },
  {
   "cell_type": "code",
   "execution_count": null,
   "id": "5f8bcb55-f3c2-4a1a-b15c-791114cf0a66",
   "metadata": {},
   "outputs": [],
   "source": [
    "def rad_to_degree(x):\n",
    "    return "
   ]
  },
  {
   "cell_type": "code",
   "execution_count": 9,
   "id": "14c7e7cf-3ad5-4ee1-ba5b-0028dabff567",
   "metadata": {},
   "outputs": [
    {
     "data": {
      "text/plain": [
       "np.True_"
      ]
     },
     "execution_count": 9,
     "metadata": {},
     "output_type": "execute_result"
    }
   ],
   "source": [
    "np.cos(np.pi/4) - 1/np.sqrt(2) < 0.001"
   ]
  },
  {
   "cell_type": "code",
   "execution_count": 5,
   "id": "3329a939-7761-4b2e-80ec-1d1a7581fbe7",
   "metadata": {},
   "outputs": [
    {
     "data": {
      "text/plain": [
       "np.int64(5)"
      ]
     },
     "execution_count": 5,
     "metadata": {},
     "output_type": "execute_result"
    }
   ],
   "source": [
    "inner_product=0\n",
    "for (i,j) in zip(a_vec,b_vec):\n",
    "    inner_product += i*j\n",
    "inner_product"
   ]
  },
  {
   "cell_type": "markdown",
   "id": "a68ace0a-cc21-4c2a-b550-157e802b9478",
   "metadata": {},
   "source": [
    "<img src=\"images/0922/3.PNG\"/>"
   ]
  },
  {
   "cell_type": "code",
   "execution_count": 12,
   "id": "f80e62a5-c389-4f62-95e2-e9838d09e329",
   "metadata": {},
   "outputs": [],
   "source": [
    "import numpy as np\n",
    "a_vec=np.array([3,1])\n",
    "b_vec=np.array([1,2])"
   ]
  },
  {
   "cell_type": "code",
   "execution_count": 14,
   "id": "df981e97-3d7b-467f-92a7-a33ec0178930",
   "metadata": {},
   "outputs": [
    {
     "data": {
      "text/plain": [
       "(np.float64(3.1622776601683795), np.float64(2.23606797749979))"
      ]
     },
     "execution_count": 14,
     "metadata": {},
     "output_type": "execute_result"
    }
   ],
   "source": [
    "a_vec_mag = np.linalg.norm(a_vec)\n",
    "b_vec_mag = np.linalg.norm(b_vec)\n",
    "a_vec_mag, b_vec_mag"
   ]
  },
  {
   "cell_type": "code",
   "execution_count": 18,
   "id": "80cb5881-f7e6-4015-9bf1-33802e1beb3d",
   "metadata": {},
   "outputs": [
    {
     "data": {
      "text/plain": [
       "np.float64(0.7071067811865475)"
      ]
     },
     "execution_count": 18,
     "metadata": {},
     "output_type": "execute_result"
    }
   ],
   "source": [
    "cos_theta = np.dot(a_vec, b_vec) / (a_vec_mag*b_vec_mag)\n",
    "cos_theta"
   ]
  },
  {
   "cell_type": "code",
   "execution_count": 20,
   "id": "57d2241a-51d5-4238-a5c4-8ce4589ea0d9",
   "metadata": {},
   "outputs": [
    {
     "data": {
      "text/plain": [
       "np.float64(45.00000000000001)"
      ]
     },
     "execution_count": 20,
     "metadata": {},
     "output_type": "execute_result"
    }
   ],
   "source": [
    "np.rad2deg(np.arccos(cos_theta))"
   ]
  },
  {
   "cell_type": "code",
   "execution_count": 10,
   "id": "d8eb093a-5e63-4816-ba90-0fb6a4c1b800",
   "metadata": {},
   "outputs": [
    {
     "data": {
      "text/plain": [
       "array([0.        , 0.52359878, 0.78539816, 1.04719755, 1.57079633])"
      ]
     },
     "execution_count": 10,
     "metadata": {},
     "output_type": "execute_result"
    }
   ],
   "source": [
    "np.deg2rad([0,30,45,60,90])"
   ]
  },
  {
   "cell_type": "code",
   "execution_count": 30,
   "id": "acee7853-633e-4188-a034-15669b29307e",
   "metadata": {},
   "outputs": [],
   "source": [
    "def rad_to_deg(rad):\n",
    "    return rad *180.0/np.pi"
   ]
  },
  {
   "cell_type": "code",
   "execution_count": 31,
   "id": "04c96010-5ecc-4f7b-b249-8eb4939ebb68",
   "metadata": {},
   "outputs": [],
   "source": [
    "def deg_to_rad(deg):\n",
    "    return deg *np.pi/180.0"
   ]
  },
  {
   "cell_type": "code",
   "execution_count": 32,
   "id": "2476a966-594b-48c2-a06e-cff980d92a8d",
   "metadata": {},
   "outputs": [
    {
     "data": {
      "text/plain": [
       "[29.999999999999996, 45.0, 59.99999999999999, 90.0]"
      ]
     },
     "execution_count": 32,
     "metadata": {},
     "output_type": "execute_result"
    }
   ],
   "source": [
    "[rad_to_deg(i) for i in [np.pi/6,  np.pi/4,np.pi/3, np.pi/2]]"
   ]
  },
  {
   "cell_type": "code",
   "execution_count": 33,
   "id": "94725e4d-5060-4d55-8356-957386b8c16e",
   "metadata": {},
   "outputs": [],
   "source": [
    "q1_a_vec = np.array([50,2])\n",
    "q1_b_vec = np.array([-1,3])"
   ]
  },
  {
   "cell_type": "code",
   "execution_count": 34,
   "id": "f418ca93-e2f9-4850-9f79-aa15d608f62f",
   "metadata": {},
   "outputs": [],
   "source": [
    "a_m = np.linalg.norm(q1_a_vec)\n",
    "b_m = np.linalg.norm(q1_b_vec)"
   ]
  },
  {
   "cell_type": "code",
   "execution_count": 35,
   "id": "8e57ac0f-869c-4a75-ae98-6436d3f41be4",
   "metadata": {},
   "outputs": [],
   "source": [
    "q1_dot = np.dot(q1_a_vec, q1_b_vec)"
   ]
  },
  {
   "cell_type": "code",
   "execution_count": 36,
   "id": "f377352f-b66c-46a2-bbea-00ef62819364",
   "metadata": {},
   "outputs": [
    {
     "data": {
      "text/plain": [
       "np.float64(106.14433878028349)"
      ]
     },
     "execution_count": 36,
     "metadata": {},
     "output_type": "execute_result"
    }
   ],
   "source": [
    "rad_to_deg(np.arccos(q1_dot/(a_m * b_m)))"
   ]
  },
  {
   "cell_type": "code",
   "execution_count": 37,
   "id": "2797f155-de1f-4c94-9673-cce646c4503a",
   "metadata": {},
   "outputs": [],
   "source": [
    "q2_a_vec = np.array([2,3,1])\n",
    "q2_b_vec = np.array([1,-1,2])"
   ]
  },
  {
   "cell_type": "code",
   "execution_count": 38,
   "id": "98e5ded9-b9b7-488f-9456-a98c65244602",
   "metadata": {},
   "outputs": [],
   "source": [
    "q2_dot = np.dot(q2_a_vec, q2_b_vec)"
   ]
  },
  {
   "cell_type": "code",
   "execution_count": 39,
   "id": "f9a918d2-87e3-44d3-a142-4f77e8823114",
   "metadata": {},
   "outputs": [],
   "source": [
    "q2_a_m = np.linalg.norm(q2_a_vec)\n",
    "q2_b_m = np.linalg.norm(q2_b_vec)"
   ]
  },
  {
   "cell_type": "code",
   "execution_count": 40,
   "id": "aaded9cc-83f7-4ec9-b174-12e93cdb8769",
   "metadata": {},
   "outputs": [
    {
     "data": {
      "text/plain": [
       "np.float64(83.7360472800728)"
      ]
     },
     "execution_count": 40,
     "metadata": {},
     "output_type": "execute_result"
    }
   ],
   "source": [
    "rad_to_deg(np.arccos(q2_dot/(q2_a_m * q2_b_m)))"
   ]
  }
 ],
 "metadata": {
  "kernelspec": {
   "display_name": "Python [conda env:base] *",
   "language": "python",
   "name": "conda-base-py"
  },
  "language_info": {
   "codemirror_mode": {
    "name": "ipython",
    "version": 3
   },
   "file_extension": ".py",
   "mimetype": "text/x-python",
   "name": "python",
   "nbconvert_exporter": "python",
   "pygments_lexer": "ipython3",
   "version": "3.13.5"
  }
 },
 "nbformat": 4,
 "nbformat_minor": 5
}
